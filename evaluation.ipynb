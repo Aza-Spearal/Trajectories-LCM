{
 "cells": [
  {
   "cell_type": "code",
   "execution_count": 1,
   "metadata": {},
   "outputs": [
    {
     "name": "stderr",
     "output_type": "stream",
     "text": [
      "/tmp/ipykernel_1787075/2645526841.py:60: FutureWarning: You are using `torch.load` with `weights_only=False` (the current default value), which uses the default pickle module implicitly. It is possible to construct malicious pickle data which will execute arbitrary code during unpickling (See https://github.com/pytorch/pytorch/blob/main/SECURITY.md#untrusted-models for more details). In a future release, the default value for `weights_only` will be flipped to `True`. This limits the functions that could be executed during unpickling. Arbitrary objects will no longer be allowed to be loaded via this mode unless they are explicitly allowlisted by the user via `torch.serialization.add_safe_globals`. We recommend you start setting `weights_only=True` for any use case where you don't have full control of the loaded file. Please open an issue on GitHub for any issues related to this experimental feature.\n",
      "  sonarprompt, sonaroutput, _ = torch.load('data/test_sonarprompt_sonaroutput_jasperoutput.pth')\n",
      "/tmp/ipykernel_1787075/2645526841.py:77: FutureWarning: You are using `torch.load` with `weights_only=False` (the current default value), which uses the default pickle module implicitly. It is possible to construct malicious pickle data which will execute arbitrary code during unpickling (See https://github.com/pytorch/pytorch/blob/main/SECURITY.md#untrusted-models for more details). In a future release, the default value for `weights_only` will be flipped to `True`. This limits the functions that could be executed during unpickling. Arbitrary objects will no longer be allowed to be loaded via this mode unless they are explicitly allowlisted by the user via `torch.serialization.add_safe_globals`. We recommend you start setting `weights_only=True` for any use case where you don't have full control of the loaded file. Please open an issue on GitHub for any issues related to this experimental feature.\n",
      "  model.load_state_dict(torch.load('Base_LCM_0.53_0.5_2048_4_11.pth')[0])\n"
     ]
    }
   ],
   "source": [
    "import torch\n",
    "from torch import nn\n",
    "import torch.nn.functional as F\n",
    "import numpy as np\n",
    "\n",
    "device = torch.device('cuda' if torch.cuda.is_available() else 'cpu')\n",
    "d_emb = 1024\n",
    "\n",
    "pad = torch.from_numpy(np.load('/workspace/eloise/sentemb/data/pad.npy')).to(device)\n",
    "\n",
    "cos = nn.CosineSimilarity(dim=-1)\n",
    "cossim = nn.CosineEmbeddingLoss()\n",
    "mse = nn.MSELoss()\n",
    "\n",
    "def criterion(output, target):\n",
    "    \n",
    "    mask = ~(target == pad).all(dim=-1) #[batch, seq]\n",
    "    target = target[mask]\n",
    "    output = output[mask]\n",
    "    \n",
    "    cossim_ = cossim(output, target, torch.full((1,), 1).to(device))\n",
    "    mse_ = mse(output, target)\n",
    "    return [cossim_, mse_]\n",
    "\n",
    "\n",
    "def autoregr_infer(model, valid_tensors, n_parag):\n",
    "    filler = 20-n_parag\n",
    "    input_tensor = torch.stack([tensor[:n_parag] for tensor in valid_tensors])\n",
    "    model.eval()\n",
    "    with torch.no_grad():\n",
    "        autoregr = input_tensor.to(device)\n",
    "        for i in range(filler):\n",
    "            #output = model(autoregr)[:, -1].unsqueeze(1)\n",
    "            output = model.predict_next_sentence(autoregr)[:, -1].unsqueeze(1)\n",
    "            autoregr = torch.cat((autoregr, output), dim=1)\n",
    "    return autoregr[:, n_parag:]\n",
    "\n",
    "\n",
    "def calculate_score(output, targets, filler):\n",
    "\n",
    "    score_one_sum = 0\n",
    "    score_sum_pad = torch.zeros(filler).to(device)\n",
    "    pad_nbr_sum = torch.zeros(filler).to(device)\n",
    "\n",
    "    for batch, target in enumerate(targets):\n",
    "        out = output[batch][:len(target)].to(device)\n",
    "        \n",
    "        score = cos(out, target)\n",
    "\n",
    "        score_one_sum += score.mean()\n",
    "        score_sum_pad += F.pad(score, (0, filler - len(score)))\n",
    "        pad_nbr_sum += F.pad(torch.ones(len(score)), (0, filler - len(score))).to(device)\n",
    "\n",
    "    paragraphed_score = score_sum_pad/pad_nbr_sum\n",
    "    paragraphed_score = [round(elem.item(), 2) for elem in paragraphed_score]\n",
    "    final_score = score_one_sum.item()/len(targets)\n",
    "    return final_score, paragraphed_score\n",
    "\n",
    "\n",
    "sonarprompt, sonaroutput, _ = torch.load('data/test_sonarprompt_sonaroutput_jasperoutput.pth')\n",
    "\n",
    "sonardata = []\n",
    "for i in range(len(sonarprompt)):\n",
    "    sonardata.append(torch.cat((sonarprompt[i], sonaroutput[i]), dim=0))\n",
    "\n",
    "\n",
    "\n",
    "from lcm.models.base_lcm.archs import base_lcm_max_ray\n",
    "from lcm.models.base_lcm.builder import BaseLCModelBuilder\n",
    "\n",
    "config = {\n",
    "    \"model_dim\":2048,\n",
    "    \"model_arch\":[11, 4]\n",
    "}\n",
    "\n",
    "model = BaseLCModelBuilder(base_lcm_max_ray(config), device=device).build_model('lolo')\n",
    "model.load_state_dict(torch.load('Base_LCM_0.53_0.5_2048_4_11.pth')[0])\n",
    "\n",
    "seq = 20"
   ]
  },
  {
   "cell_type": "markdown",
   "metadata": {},
   "source": [
    "SCORE"
   ]
  },
  {
   "cell_type": "code",
   "execution_count": 2,
   "metadata": {},
   "outputs": [
    {
     "name": "stdout",
     "output_type": "stream",
     "text": [
      "0.53       [0.78, 0.6, 0.59, 0.54, 0.48, 0.45, 0.42, 0.44, 0.44, 0.41, 0.4, 0.4, 0.37, 0.38, 0.4, 0.38, 0.38, 0.37, 0.36]\n",
      "0.513             [0.61, 0.6, 0.54, 0.48, 0.45, 0.43, 0.44, 0.45, 0.41, 0.4, 0.4, 0.37, 0.38, 0.41, 0.39, 0.37, 0.39, 0.38]\n",
      "0.518                   [0.63, 0.57, 0.5, 0.47, 0.44, 0.45, 0.45, 0.41, 0.4, 0.41, 0.38, 0.39, 0.41, 0.38, 0.38, 0.39, 0.38]\n",
      "0.519                         [0.59, 0.55, 0.51, 0.47, 0.47, 0.5, 0.43, 0.42, 0.44, 0.42, 0.4, 0.41, 0.39, 0.38, 0.39, 0.39]\n",
      "0.504                               [0.59, 0.53, 0.5, 0.48, 0.51, 0.44, 0.43, 0.45, 0.43, 0.42, 0.43, 0.41, 0.4, 0.42, 0.42]\n",
      "0.508                                     [0.61, 0.56, 0.51, 0.53, 0.46, 0.48, 0.49, 0.46, 0.44, 0.44, 0.41, 0.42, 0.42, 0.39]\n",
      "0.509                                           [0.61, 0.55, 0.56, 0.47, 0.5, 0.5, 0.46, 0.46, 0.46, 0.41, 0.42, 0.43, 0.39]\n",
      "0.51                                                 [0.6, 0.59, 0.49, 0.51, 0.51, 0.48, 0.47, 0.47, 0.41, 0.42, 0.44, 0.4]\n",
      "0.52                                                       [0.64, 0.53, 0.54, 0.53, 0.5, 0.49, 0.49, 0.43, 0.44, 0.44, 0.41]\n",
      "0.521                                                             [0.58, 0.57, 0.55, 0.51, 0.48, 0.5, 0.45, 0.45, 0.45, 0.4]\n",
      "0.527                                                                   [0.62, 0.58, 0.54, 0.5, 0.5, 0.45, 0.45, 0.44, 0.4]\n",
      "0.533                                                                         [0.63, 0.57, 0.52, 0.52, 0.47, 0.46, 0.46, 0.4]\n",
      "0.536                                                                               [0.64, 0.56, 0.54, 0.47, 0.46, 0.45, 0.38]\n",
      "0.53                                                                                     [0.61, 0.57, 0.49, 0.47, 0.47, 0.39]\n",
      "0.535                                                                                           [0.64, 0.52, 0.49, 0.46, 0.42]\n",
      "0.559                                                                                                 [0.61, 0.57, 0.52, 0.46]\n",
      "0.575                                                                                                       [0.64, 0.56, 0.5]\n",
      "0.587                                                                                                             [0.63, 0.54]\n",
      "0.6                                                                                                                   [0.6]\n"
     ]
    },
    {
     "data": {
      "text/plain": [
       "0.533"
      ]
     },
     "execution_count": 2,
     "metadata": {},
     "output_type": "execute_result"
    }
   ],
   "source": [
    "list_final_score = []\n",
    "\n",
    "dataloop = sonardata[:]\n",
    "\n",
    "for n_parag in range(1, seq):\n",
    "    \n",
    "    filler=seq-n_parag\n",
    "\n",
    "    valid_tensors = [tensor for tensor in dataloop if tensor.size(0) > n_parag]\n",
    "\n",
    "    output = autoregr_infer(model, valid_tensors, n_parag)\n",
    "    \n",
    "    targets = [tensor[n_parag:] for tensor in valid_tensors]\n",
    "    \n",
    "    final_score, paragraphed_score = calculate_score(output, targets, filler)\n",
    "    \n",
    "    list_final_score.append(final_score)\n",
    "    \n",
    "    print(str(round(final_score, 3))+ ' '+ n_parag*6*' '  +str(paragraphed_score))\n",
    "\n",
    "round(np.average(list_final_score), 3)"
   ]
  },
  {
   "cell_type": "markdown",
   "metadata": {},
   "source": [
    "NLP"
   ]
  },
  {
   "cell_type": "code",
   "execution_count": 10,
   "metadata": {},
   "outputs": [],
   "source": [
    "size = 20\n",
    "n_parag = 5\n",
    "\n",
    "dataloop = sonardata[:size]\n",
    "filler=seq-n_parag\n",
    "valid_tensors = [tensor for tensor in dataloop if tensor.size(0) > n_parag]\n",
    "    \n",
    "output_autoregr = autoregr_infer(model, valid_tensors, n_parag)\n",
    "\n",
    "from sonar.inference_pipelines.text import EmbeddingToTextModelPipeline\n",
    "vec2text_model = EmbeddingToTextModelPipeline(decoder=\"text_sonar_basic_decoder\", tokenizer=\"text_sonar_basic_decoder\", device=device)"
   ]
  },
  {
   "cell_type": "code",
   "execution_count": 11,
   "metadata": {},
   "outputs": [],
   "source": [
    "#1000 => 87mn\n",
    "#100 => 7mn\n",
    "#10 => 38s\n",
    "text_autoregr = []\n",
    "for data in output_autoregr:\n",
    "    sample = vec2text_model.predict(data, target_lang=\"eng_Latn\")\n",
    "    text_autoregr.append(sample)"
   ]
  },
  {
   "cell_type": "code",
   "execution_count": 12,
   "metadata": {},
   "outputs": [
    {
     "name": "stderr",
     "output_type": "stream",
     "text": [
      "/tmp/ipykernel_1773099/996749366.py:1: FutureWarning: You are using `torch.load` with `weights_only=False` (the current default value), which uses the default pickle module implicitly. It is possible to construct malicious pickle data which will execute arbitrary code during unpickling (See https://github.com/pytorch/pytorch/blob/main/SECURITY.md#untrusted-models for more details). In a future release, the default value for `weights_only` will be flipped to `True`. This limits the functions that could be executed during unpickling. Arbitrary objects will no longer be allowed to be loaded via this mode unless they are explicitly allowlisted by the user via `torch.serialization.add_safe_globals`. We recommend you start setting `weights_only=True` for any use case where you don't have full control of the loaded file. Please open an issue on GitHub for any issues related to this experimental feature.\n",
      "  test_data = torch.load('../datasets/fineweb_random.pth')[-1000:][:size]\n"
     ]
    }
   ],
   "source": [
    "test_data = torch.load('../datasets/fineweb_random.pth')[-1000:][:size]\n",
    "test_data = [sous_liste[:seq] for sous_liste in test_data]\n",
    "test_data = [tensor for tensor in test_data if len(tensor) > n_parag]\n",
    "\n",
    "for i in test_data:\n",
    "    if len(i) < seq:\n",
    "        pad_need = seq-len(i)\n",
    "        for j in range(pad_need):\n",
    "            i.append('End of text.')"
   ]
  },
  {
   "cell_type": "code",
   "execution_count": 22,
   "metadata": {},
   "outputs": [
    {
     "ename": "IndexError",
     "evalue": "list index out of range",
     "output_type": "error",
     "traceback": [
      "\u001b[0;31m---------------------------------------------------------------------------\u001b[0m",
      "\u001b[0;31mIndexError\u001b[0m                                Traceback (most recent call last)",
      "Cell \u001b[0;32mIn[22], line 2\u001b[0m\n\u001b[1;32m      1\u001b[0m i\u001b[38;5;241m=\u001b[39m\u001b[38;5;241m15\u001b[39m\n\u001b[0;32m----> 2\u001b[0m \u001b[38;5;28mprint\u001b[39m(\u001b[38;5;124m'\u001b[39m\u001b[38;5;124mPrompt:\u001b[39m\u001b[38;5;124m'\u001b[39m, \u001b[43mtest_data\u001b[49m\u001b[43m[\u001b[49m\u001b[43mi\u001b[49m\u001b[43m]\u001b[49m[\u001b[38;5;241m0\u001b[39m]\u001b[38;5;241m.\u001b[39mrstrip(\u001b[38;5;124m'\u001b[39m\u001b[38;5;130;01m\\n\u001b[39;00m\u001b[38;5;124m'\u001b[39m), \u001b[38;5;124m'\u001b[39m\u001b[38;5;130;01m\\n\u001b[39;00m\u001b[38;5;124m'\u001b[39m)\n\u001b[1;32m      3\u001b[0m \u001b[38;5;28;01mfor\u001b[39;00m j \u001b[38;5;129;01min\u001b[39;00m \u001b[38;5;28mrange\u001b[39m(seq\u001b[38;5;241m-\u001b[39m\u001b[38;5;241m1\u001b[39m):\n\u001b[1;32m      4\u001b[0m     \u001b[38;5;28mprint\u001b[39m(\u001b[38;5;124m'\u001b[39m\u001b[38;5;124mTargt:\u001b[39m\u001b[38;5;124m'\u001b[39m, test_data[i][j\u001b[38;5;241m+\u001b[39m\u001b[38;5;241m1\u001b[39m]\u001b[38;5;241m.\u001b[39mrstrip(\u001b[38;5;124m'\u001b[39m\u001b[38;5;130;01m\\n\u001b[39;00m\u001b[38;5;124m'\u001b[39m))\n",
      "\u001b[0;31mIndexError\u001b[0m: list index out of range"
     ]
    }
   ],
   "source": [
    "i=15\n",
    "print('Prompt:', test_data[i][0].rstrip('\\n'), '\\n')\n",
    "for j in range(seq-1):\n",
    "    print('Targt:', test_data[i][j+1].rstrip('\\n'))\n",
    "    if j>=n_parag-1:\n",
    "        print('Infer:', text_autoregr[i][j-(n_parag-1)].rstrip('\\n'), '\\n')"
   ]
  }
 ],
 "metadata": {
  "kernelspec": {
   "display_name": "large-concept-model-py3.10",
   "language": "python",
   "name": "python3"
  },
  "language_info": {
   "codemirror_mode": {
    "name": "ipython",
    "version": 3
   },
   "file_extension": ".py",
   "mimetype": "text/x-python",
   "name": "python",
   "nbconvert_exporter": "python",
   "pygments_lexer": "ipython3",
   "version": "3.10.12"
  }
 },
 "nbformat": 4,
 "nbformat_minor": 2
}
