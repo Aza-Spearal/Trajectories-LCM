{
 "cells": [
  {
   "cell_type": "code",
   "execution_count": null,
   "metadata": {},
   "outputs": [],
   "source": [
    "import torch\n",
    "device = torch.device(\"cuda\") if torch.cuda.is_available() else torch.device(\"cpu\")\n",
    "import numpy as np\n",
    "from tqdm import tqdm\n",
    "from sonar.inference_pipelines.text import TextToEmbeddingModelPipeline\n",
    "\n",
    "t2vec_model = TextToEmbeddingModelPipeline(encoder=\"text_sonar_basic_encoder\", tokenizer=\"text_sonar_basic_encoder\", device=device)\n",
    "pad = t2vec_model.predict(['End of text.'], source_lang=\"eng_Latn\")[0]"
   ]
  },
  {
   "cell_type": "code",
   "execution_count": null,
   "metadata": {},
   "outputs": [],
   "source": [
    "def pad_tensor(tensor, max_len=20):\n",
    "    seq = tensor.size(0)\n",
    "    if seq < max_len:\n",
    "        padding_needed = max_len - seq\n",
    "        padding = pad.expand(padding_needed, -1).to(device)\n",
    "        tensor = torch.cat([tensor, padding], dim=0)\n",
    "    return tensor[:max_len]\n",
    "\n",
    "\n",
    "#fineweb[xxx] are my text data files, you should use your own text dataset\n",
    "for i in tqdm([':100', '100:200', '200:300', '300:400', '400:500', '500:600', '600:700', '700:800', '800:900', '900:']):\n",
    "    data = torch.load('fineweb['+str(i)+'].pth')\n",
    "    \n",
    "    if i==':100':\n",
    "        n='100'\n",
    "    elif i=='900:':\n",
    "        n='900'\n",
    "    else:\n",
    "        n=i[-3:]\n",
    "        data=data[:-2000]\n",
    "        \n",
    "    tensor_list_padded = torch.stack([pad_tensor(tensor.to(device)) for tensor in data])\n",
    "    \n",
    "    np.save('/workspace/eloise/sentemb/data/'+n+'k.npy', tensor_list_padded.numpy())"
   ]
  },
  {
   "cell_type": "markdown",
   "metadata": {},
   "source": [
    "Test file creation"
   ]
  },
  {
   "cell_type": "code",
   "execution_count": null,
   "metadata": {},
   "outputs": [],
   "source": [
    "import torch\n",
    "dataset = torch.load('fineweb[900:].pth')\n",
    "device = torch.device(\"cuda\") if torch.cuda.is_available() else torch.device(\"cpu\")\n",
    "from tqdm import tqdm\n",
    "from sonar.inference_pipelines.text import TextToEmbeddingModelPipeline\n",
    "t2vec_model = TextToEmbeddingModelPipeline(encoder=\"text_sonar_basic_encoder\", tokenizer=\"text_sonar_basic_encoder\", device=device)\n",
    "\n",
    "test_sonar = dataset[-1000:]\n",
    "\n",
    "test_sonar = [sous_liste[:20] for sous_liste in test_sonar]\n",
    "\n",
    "prompt = []\n",
    "output = []\n",
    "\n",
    "for sample in test_sonar:\n",
    "    prompt.append(sample[0])\n",
    "    output.append(sample[1:])\n",
    "    \n",
    "prompt = torch.stack(prompt).unsqueeze(1)"
   ]
  },
  {
   "cell_type": "code",
   "execution_count": null,
   "metadata": {},
   "outputs": [],
   "source": [
    "import torch\n",
    "from sentence_transformers import SentenceTransformer\n",
    "dataset = torch.load('fineweb_random.pth')\n",
    "device = torch.device(\"cuda\") if torch.cuda.is_available() else torch.device(\"cpu\")\n",
    "\n",
    "jasper = SentenceTransformer(\"infgrad/jasper_en_vision_language_v1\",\n",
    "    trust_remote_code=True,\n",
    "    device=device,\n",
    "    model_kwargs={\"torch_dtype\":  torch.bfloat16 if device == torch.device('cuda') else torch.float32},\n",
    ")\n",
    "jasper.max_seq_length = 1024\n",
    "\n",
    "data_jasper = dataset[-1000:][:10]\n",
    "\n",
    "data_jasper = [sous_liste[1:20] for sous_liste in data_jasper]\n",
    "\n",
    "test_jasper = []\n",
    "for sample in data_jasper:\n",
    "    enc = jasper.encode(sample)\n",
    "    test_jasper.append(torch.from_numpy(enc).to(device))"
   ]
  },
  {
   "cell_type": "code",
   "execution_count": null,
   "metadata": {},
   "outputs": [],
   "source": [
    "torch.save([prompt, output, test_jasper], '/workspace/eloise/sentemb/data/test_sonarprompt_sonaroutput_jasperoutput.pth')"
   ]
  }
 ],
 "metadata": {
  "kernelspec": {
   "display_name": "large-concept-model-py3.10",
   "language": "python",
   "name": "python3"
  },
  "language_info": {
   "codemirror_mode": {
    "name": "ipython",
    "version": 3
   },
   "file_extension": ".py",
   "mimetype": "text/x-python",
   "name": "python",
   "nbconvert_exporter": "python",
   "pygments_lexer": "ipython3",
   "version": "3.10.12"
  }
 },
 "nbformat": 4,
 "nbformat_minor": 2
}
