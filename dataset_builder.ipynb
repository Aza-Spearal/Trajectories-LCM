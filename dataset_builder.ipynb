{
 "cells": [
  {
   "cell_type": "code",
   "execution_count": null,
   "metadata": {},
   "outputs": [],
   "source": [
    "import torch\n",
    "device = torch.device(\"cuda\") if torch.cuda.is_available() else torch.device(\"cpu\")\n",
    "import numpy as np\n",
    "from tqdm import tqdm\n",
    "from sonar.inference_pipelines.text import TextToEmbeddingModelPipeline\n",
    "\n",
    "t2vec_model = TextToEmbeddingModelPipeline(encoder=\"text_sonar_basic_encoder\", tokenizer=\"text_sonar_basic_encoder\", device=device)\n",
    "\n",
    "#you need a pad token, I chose 'End of text.'\n",
    "pad = t2vec_model.predict(['End of text.'], source_lang=\"eng_Latn\")[0]\n",
    "np.save('/LCM/data/pad.npy', pad.numpy())"
   ]
  },
  {
   "cell_type": "markdown",
   "metadata": {},
   "source": [
    "We transform the raw data to pytorch tensor:"
   ]
  },
  {
   "cell_type": "code",
   "execution_count": null,
   "metadata": {},
   "outputs": [],
   "source": [
    "#fineweb_random is my text data file, you should use your own text dataset\n",
    "dataset = torch.load('fineweb_random.pth')\n",
    "\n",
    "data_vect = []\n",
    "for sample in tqdm(dataset):\n",
    "    data_vect.append(t2vec_model.predict(sample, source_lang=\"eng_Latn\"))\n",
    "\n",
    "np.save('/LCM/data/dataset_vect.npy', data_vect.numpy())"
   ]
  },
  {
   "cell_type": "markdown",
   "metadata": {},
   "source": [
    "We pad and truncate the dataset:"
   ]
  },
  {
   "cell_type": "code",
   "execution_count": null,
   "metadata": {},
   "outputs": [],
   "source": [
    "def pad_tensor(tensor, max_len=20):\n",
    "    seq = tensor.size(0)\n",
    "    if seq < max_len:\n",
    "        padding_needed = max_len - seq\n",
    "        padding = pad.expand(padding_needed, -1).to(device)\n",
    "        tensor = torch.cat([tensor, padding], dim=0)\n",
    "    return tensor[:max_len]\n",
    "\n",
    "\n",
    "#I divise my dataset in 10 files for memory\n",
    "for i in range(10):\n",
    "    beg = i*100000\n",
    "    end = (i+1)*100000\n",
    "    if i==9: #we save 2000 samples for validation and test set\n",
    "        end = 998000\n",
    "    data = dataset[beg:end]\n",
    "    tensor_list_padded = torch.stack([pad_tensor(tensor.to(device)) for tensor in data])\n",
    "\n",
    "    np.save('/LCM/data/'+str(i)+'00k.npy', tensor_list_padded.numpy())"
   ]
  },
  {
   "cell_type": "markdown",
   "metadata": {},
   "source": [
    "The first file we will load during training, it contains train samples and the validation set:"
   ]
  },
  {
   "cell_type": "code",
   "execution_count": null,
   "metadata": {},
   "outputs": [],
   "source": [
    "val = dataset[-2000:-1000]\n",
    "np.savez('/data/100k_1k_0.npz', train=np.load('/LCM/data/100k.npy'), val=val)"
   ]
  },
  {
   "cell_type": "markdown",
   "metadata": {},
   "source": [
    "Test file creation"
   ]
  },
  {
   "cell_type": "code",
   "execution_count": null,
   "metadata": {},
   "outputs": [],
   "source": [
    "import torch\n",
    "import numpy as np\n",
    "dataset = torch.from_numpy(np.load('/LCM/data/dataset_vect.npy'))\n",
    "device = torch.device(\"cuda\") if torch.cuda.is_available() else torch.device(\"cpu\")\n",
    "from sonar.inference_pipelines.text import TextToEmbeddingModelPipeline\n",
    "t2vec_model = TextToEmbeddingModelPipeline(encoder=\"text_sonar_basic_encoder\", tokenizer=\"text_sonar_basic_encoder\", device=device)\n",
    "\n",
    "test_sonar = dataset[-1000:]\n",
    "\n",
    "test_sonar = [sous_liste[:20] for sous_liste in test_sonar]\n",
    "\n",
    "prompt = []\n",
    "output = []\n",
    "\n",
    "for sample in test_sonar:\n",
    "    prompt.append(sample[0])\n",
    "    output.append(sample[1:])\n",
    "    \n",
    "prompt = torch.stack(prompt).unsqueeze(1)"
   ]
  },
  {
   "cell_type": "code",
   "execution_count": null,
   "metadata": {},
   "outputs": [],
   "source": [
    "import torch\n",
    "from sentence_transformers import SentenceTransformer\n",
    "import numpy as np\n",
    "dataset = torch.from_numpy(np.load('/LCM/data/dataset_vect.npy'))\n",
    "device = torch.device(\"cuda\") if torch.cuda.is_available() else torch.device(\"cpu\")\n",
    "\n",
    "jasper = SentenceTransformer(\"infgrad/jasper_en_vision_language_v1\",\n",
    "    trust_remote_code=True,\n",
    "    device=device,\n",
    "    model_kwargs={\"torch_dtype\":  torch.bfloat16 if device == torch.device('cuda') else torch.float32},\n",
    ")\n",
    "jasper.max_seq_length = 1024\n",
    "\n",
    "data_jasper = dataset[-1000:][:10]\n",
    "\n",
    "data_jasper = [sous_liste[1:20] for sous_liste in data_jasper]\n",
    "\n",
    "test_jasper = []\n",
    "for sample in data_jasper:\n",
    "    enc = jasper.encode(sample)\n",
    "    test_jasper.append(torch.from_numpy(enc).to(device))"
   ]
  },
  {
   "cell_type": "code",
   "execution_count": null,
   "metadata": {},
   "outputs": [],
   "source": [
    "torch.save([prompt, output, test_jasper], '/LCM/data/test_sonarprompt_sonaroutput_jasperoutput.pth')"
   ]
  }
 ],
 "metadata": {
  "kernelspec": {
   "display_name": "Python 3",
   "language": "python",
   "name": "python3"
  },
  "language_info": {
   "codemirror_mode": {
    "name": "ipython",
    "version": 3
   },
   "file_extension": ".py",
   "mimetype": "text/x-python",
   "name": "python",
   "nbconvert_exporter": "python",
   "pygments_lexer": "ipython3",
   "version": "3.10.12"
  }
 },
 "nbformat": 4,
 "nbformat_minor": 2
}
